{
 "cells": [
  {
   "cell_type": "markdown",
   "metadata": {},
   "source": [
    "**Insights sobre as variáveis**"
   ]
  },
  {
   "cell_type": "markdown",
   "metadata": {},
   "source": [
    "Entender o comportamento dos nossos customers"
   ]
  },
  {
   "cell_type": "markdown",
   "metadata": {},
   "source": [
    "Adicioanr aqui o índice do Código"
   ]
  },
  {
   "cell_type": "markdown",
   "metadata": {},
   "source": [
    "Adicioanr aqui info sobre a equipa"
   ]
  },
  {
   "cell_type": "markdown",
   "metadata": {},
   "source": [
    "**Imports**"
   ]
  },
  {
   "cell_type": "code",
   "execution_count": 2,
   "metadata": {},
   "outputs": [],
   "source": [
    "import pandas as pd"
   ]
  },
  {
   "cell_type": "code",
   "execution_count": 4,
   "metadata": {},
   "outputs": [],
   "source": [
    "food_df=pd.read_csv(\"DM2425_ABCDEats_DATASET.csv\")"
   ]
  },
  {
   "cell_type": "markdown",
   "metadata": {},
   "source": [
    "**2.Data Exploration**\n"
   ]
  },
  {
   "cell_type": "code",
   "execution_count": 6,
   "metadata": {},
   "outputs": [
    {
     "data": {
      "text/html": [
       "<div>\n",
       "<style scoped>\n",
       "    .dataframe tbody tr th:only-of-type {\n",
       "        vertical-align: middle;\n",
       "    }\n",
       "\n",
       "    .dataframe tbody tr th {\n",
       "        vertical-align: top;\n",
       "    }\n",
       "\n",
       "    .dataframe thead th {\n",
       "        text-align: right;\n",
       "    }\n",
       "</style>\n",
       "<table border=\"1\" class=\"dataframe\">\n",
       "  <thead>\n",
       "    <tr style=\"text-align: right;\">\n",
       "      <th></th>\n",
       "      <th>customer_id</th>\n",
       "      <th>customer_region</th>\n",
       "      <th>customer_age</th>\n",
       "      <th>vendor_count</th>\n",
       "      <th>product_count</th>\n",
       "      <th>is_chain</th>\n",
       "      <th>first_order</th>\n",
       "      <th>last_order</th>\n",
       "      <th>last_promo</th>\n",
       "      <th>payment_method</th>\n",
       "      <th>...</th>\n",
       "      <th>HR_14</th>\n",
       "      <th>HR_15</th>\n",
       "      <th>HR_16</th>\n",
       "      <th>HR_17</th>\n",
       "      <th>HR_18</th>\n",
       "      <th>HR_19</th>\n",
       "      <th>HR_20</th>\n",
       "      <th>HR_21</th>\n",
       "      <th>HR_22</th>\n",
       "      <th>HR_23</th>\n",
       "    </tr>\n",
       "  </thead>\n",
       "  <tbody>\n",
       "    <tr>\n",
       "      <th>0</th>\n",
       "      <td>1b8f824d5e</td>\n",
       "      <td>2360</td>\n",
       "      <td>18.0</td>\n",
       "      <td>2</td>\n",
       "      <td>5</td>\n",
       "      <td>1</td>\n",
       "      <td>0.0</td>\n",
       "      <td>1</td>\n",
       "      <td>DELIVERY</td>\n",
       "      <td>DIGI</td>\n",
       "      <td>...</td>\n",
       "      <td>0</td>\n",
       "      <td>0</td>\n",
       "      <td>0</td>\n",
       "      <td>0</td>\n",
       "      <td>2</td>\n",
       "      <td>0</td>\n",
       "      <td>0</td>\n",
       "      <td>0</td>\n",
       "      <td>0</td>\n",
       "      <td>0</td>\n",
       "    </tr>\n",
       "    <tr>\n",
       "      <th>1</th>\n",
       "      <td>5d272b9dcb</td>\n",
       "      <td>8670</td>\n",
       "      <td>17.0</td>\n",
       "      <td>2</td>\n",
       "      <td>2</td>\n",
       "      <td>2</td>\n",
       "      <td>0.0</td>\n",
       "      <td>1</td>\n",
       "      <td>DISCOUNT</td>\n",
       "      <td>DIGI</td>\n",
       "      <td>...</td>\n",
       "      <td>0</td>\n",
       "      <td>0</td>\n",
       "      <td>0</td>\n",
       "      <td>0</td>\n",
       "      <td>0</td>\n",
       "      <td>0</td>\n",
       "      <td>0</td>\n",
       "      <td>0</td>\n",
       "      <td>0</td>\n",
       "      <td>0</td>\n",
       "    </tr>\n",
       "    <tr>\n",
       "      <th>2</th>\n",
       "      <td>f6d1b2ba63</td>\n",
       "      <td>4660</td>\n",
       "      <td>38.0</td>\n",
       "      <td>1</td>\n",
       "      <td>2</td>\n",
       "      <td>2</td>\n",
       "      <td>0.0</td>\n",
       "      <td>1</td>\n",
       "      <td>DISCOUNT</td>\n",
       "      <td>CASH</td>\n",
       "      <td>...</td>\n",
       "      <td>0</td>\n",
       "      <td>0</td>\n",
       "      <td>0</td>\n",
       "      <td>0</td>\n",
       "      <td>0</td>\n",
       "      <td>0</td>\n",
       "      <td>0</td>\n",
       "      <td>0</td>\n",
       "      <td>0</td>\n",
       "      <td>0</td>\n",
       "    </tr>\n",
       "    <tr>\n",
       "      <th>3</th>\n",
       "      <td>180c632ed8</td>\n",
       "      <td>4660</td>\n",
       "      <td>NaN</td>\n",
       "      <td>2</td>\n",
       "      <td>3</td>\n",
       "      <td>1</td>\n",
       "      <td>0.0</td>\n",
       "      <td>2</td>\n",
       "      <td>DELIVERY</td>\n",
       "      <td>DIGI</td>\n",
       "      <td>...</td>\n",
       "      <td>1</td>\n",
       "      <td>0</td>\n",
       "      <td>0</td>\n",
       "      <td>0</td>\n",
       "      <td>0</td>\n",
       "      <td>0</td>\n",
       "      <td>0</td>\n",
       "      <td>0</td>\n",
       "      <td>0</td>\n",
       "      <td>0</td>\n",
       "    </tr>\n",
       "    <tr>\n",
       "      <th>4</th>\n",
       "      <td>4eb37a6705</td>\n",
       "      <td>4660</td>\n",
       "      <td>20.0</td>\n",
       "      <td>2</td>\n",
       "      <td>5</td>\n",
       "      <td>0</td>\n",
       "      <td>0.0</td>\n",
       "      <td>2</td>\n",
       "      <td>-</td>\n",
       "      <td>DIGI</td>\n",
       "      <td>...</td>\n",
       "      <td>0</td>\n",
       "      <td>0</td>\n",
       "      <td>0</td>\n",
       "      <td>0</td>\n",
       "      <td>0</td>\n",
       "      <td>0</td>\n",
       "      <td>0</td>\n",
       "      <td>0</td>\n",
       "      <td>0</td>\n",
       "      <td>0</td>\n",
       "    </tr>\n",
       "    <tr>\n",
       "      <th>5</th>\n",
       "      <td>6aef2b6726</td>\n",
       "      <td>8670</td>\n",
       "      <td>40.0</td>\n",
       "      <td>2</td>\n",
       "      <td>2</td>\n",
       "      <td>0</td>\n",
       "      <td>0.0</td>\n",
       "      <td>2</td>\n",
       "      <td>FREEBIE</td>\n",
       "      <td>DIGI</td>\n",
       "      <td>...</td>\n",
       "      <td>0</td>\n",
       "      <td>0</td>\n",
       "      <td>0</td>\n",
       "      <td>0</td>\n",
       "      <td>0</td>\n",
       "      <td>0</td>\n",
       "      <td>0</td>\n",
       "      <td>0</td>\n",
       "      <td>0</td>\n",
       "      <td>0</td>\n",
       "    </tr>\n",
       "  </tbody>\n",
       "</table>\n",
       "<p>6 rows × 56 columns</p>\n",
       "</div>"
      ],
      "text/plain": [
       "  customer_id customer_region  customer_age  vendor_count  product_count  \\\n",
       "0  1b8f824d5e            2360          18.0             2              5   \n",
       "1  5d272b9dcb            8670          17.0             2              2   \n",
       "2  f6d1b2ba63            4660          38.0             1              2   \n",
       "3  180c632ed8            4660           NaN             2              3   \n",
       "4  4eb37a6705            4660          20.0             2              5   \n",
       "5  6aef2b6726            8670          40.0             2              2   \n",
       "\n",
       "   is_chain  first_order  last_order last_promo payment_method  ...  HR_14  \\\n",
       "0         1          0.0           1   DELIVERY           DIGI  ...      0   \n",
       "1         2          0.0           1   DISCOUNT           DIGI  ...      0   \n",
       "2         2          0.0           1   DISCOUNT           CASH  ...      0   \n",
       "3         1          0.0           2   DELIVERY           DIGI  ...      1   \n",
       "4         0          0.0           2          -           DIGI  ...      0   \n",
       "5         0          0.0           2    FREEBIE           DIGI  ...      0   \n",
       "\n",
       "   HR_15  HR_16  HR_17  HR_18  HR_19  HR_20  HR_21  HR_22  HR_23  \n",
       "0      0      0      0      2      0      0      0      0      0  \n",
       "1      0      0      0      0      0      0      0      0      0  \n",
       "2      0      0      0      0      0      0      0      0      0  \n",
       "3      0      0      0      0      0      0      0      0      0  \n",
       "4      0      0      0      0      0      0      0      0      0  \n",
       "5      0      0      0      0      0      0      0      0      0  \n",
       "\n",
       "[6 rows x 56 columns]"
      ]
     },
     "execution_count": 6,
     "metadata": {},
     "output_type": "execute_result"
    }
   ],
   "source": [
    "food_df.head(6)"
   ]
  },
  {
   "cell_type": "code",
   "execution_count": 8,
   "metadata": {},
   "outputs": [
    {
     "data": {
      "text/plain": [
       "(31888, 56)"
      ]
     },
     "execution_count": 8,
     "metadata": {},
     "output_type": "execute_result"
    }
   ],
   "source": [
    "food_df.shape"
   ]
  },
  {
   "cell_type": "code",
   "execution_count": 9,
   "metadata": {},
   "outputs": [
    {
     "name": "stdout",
     "output_type": "stream",
     "text": [
      "<class 'pandas.core.frame.DataFrame'>\n",
      "RangeIndex: 31888 entries, 0 to 31887\n",
      "Data columns (total 56 columns):\n",
      " #   Column                    Non-Null Count  Dtype  \n",
      "---  ------                    --------------  -----  \n",
      " 0   customer_id               31888 non-null  object \n",
      " 1   customer_region           31888 non-null  object \n",
      " 2   customer_age              31161 non-null  float64\n",
      " 3   vendor_count              31888 non-null  int64  \n",
      " 4   product_count             31888 non-null  int64  \n",
      " 5   is_chain                  31888 non-null  int64  \n",
      " 6   first_order               31782 non-null  float64\n",
      " 7   last_order                31888 non-null  int64  \n",
      " 8   last_promo                31888 non-null  object \n",
      " 9   payment_method            31888 non-null  object \n",
      " 10  CUI_American              31888 non-null  float64\n",
      " 11  CUI_Asian                 31888 non-null  float64\n",
      " 12  CUI_Beverages             31888 non-null  float64\n",
      " 13  CUI_Cafe                  31888 non-null  float64\n",
      " 14  CUI_Chicken Dishes        31888 non-null  float64\n",
      " 15  CUI_Chinese               31888 non-null  float64\n",
      " 16  CUI_Desserts              31888 non-null  float64\n",
      " 17  CUI_Healthy               31888 non-null  float64\n",
      " 18  CUI_Indian                31888 non-null  float64\n",
      " 19  CUI_Italian               31888 non-null  float64\n",
      " 20  CUI_Japanese              31888 non-null  float64\n",
      " 21  CUI_Noodle Dishes         31888 non-null  float64\n",
      " 22  CUI_OTHER                 31888 non-null  float64\n",
      " 23  CUI_Street Food / Snacks  31888 non-null  float64\n",
      " 24  CUI_Thai                  31888 non-null  float64\n",
      " 25  DOW_0                     31888 non-null  int64  \n",
      " 26  DOW_1                     31888 non-null  int64  \n",
      " 27  DOW_2                     31888 non-null  int64  \n",
      " 28  DOW_3                     31888 non-null  int64  \n",
      " 29  DOW_4                     31888 non-null  int64  \n",
      " 30  DOW_5                     31888 non-null  int64  \n",
      " 31  DOW_6                     31888 non-null  int64  \n",
      " 32  HR_0                      30723 non-null  float64\n",
      " 33  HR_1                      31888 non-null  int64  \n",
      " 34  HR_2                      31888 non-null  int64  \n",
      " 35  HR_3                      31888 non-null  int64  \n",
      " 36  HR_4                      31888 non-null  int64  \n",
      " 37  HR_5                      31888 non-null  int64  \n",
      " 38  HR_6                      31888 non-null  int64  \n",
      " 39  HR_7                      31888 non-null  int64  \n",
      " 40  HR_8                      31888 non-null  int64  \n",
      " 41  HR_9                      31888 non-null  int64  \n",
      " 42  HR_10                     31888 non-null  int64  \n",
      " 43  HR_11                     31888 non-null  int64  \n",
      " 44  HR_12                     31888 non-null  int64  \n",
      " 45  HR_13                     31888 non-null  int64  \n",
      " 46  HR_14                     31888 non-null  int64  \n",
      " 47  HR_15                     31888 non-null  int64  \n",
      " 48  HR_16                     31888 non-null  int64  \n",
      " 49  HR_17                     31888 non-null  int64  \n",
      " 50  HR_18                     31888 non-null  int64  \n",
      " 51  HR_19                     31888 non-null  int64  \n",
      " 52  HR_20                     31888 non-null  int64  \n",
      " 53  HR_21                     31888 non-null  int64  \n",
      " 54  HR_22                     31888 non-null  int64  \n",
      " 55  HR_23                     31888 non-null  int64  \n",
      "dtypes: float64(18), int64(34), object(4)\n",
      "memory usage: 13.6+ MB\n"
     ]
    }
   ],
   "source": [
    "food_df.info()\n",
    "\n",
    "#Customer age, não pode ser float\n",
    "#first order devia ser int, porque é nr de dias\n",
    "#ischain, perguntar ao professor"
   ]
  },
  {
   "cell_type": "code",
   "execution_count": 28,
   "metadata": {},
   "outputs": [
    {
     "data": {
      "text/plain": [
       "1     8547\n",
       "0     6104\n",
       "2     5893\n",
       "3     3698\n",
       "4     2165\n",
       "5     1380\n",
       "6      946\n",
       "7      679\n",
       "8      500\n",
       "9      374\n",
       "10     291\n",
       "11     248\n",
       "12     169\n",
       "13     152\n",
       "14     138\n",
       "15      89\n",
       "16      68\n",
       "18      65\n",
       "17      55\n",
       "19      35\n",
       "20      34\n",
       "21      29\n",
       "22      26\n",
       "24      23\n",
       "23      20\n",
       "26      20\n",
       "27      16\n",
       "25      14\n",
       "28      13\n",
       "29      10\n",
       "31       9\n",
       "30       9\n",
       "32       8\n",
       "33       6\n",
       "34       6\n",
       "36       5\n",
       "43       5\n",
       "40       5\n",
       "37       4\n",
       "35       4\n",
       "45       4\n",
       "39       2\n",
       "42       2\n",
       "48       2\n",
       "75       1\n",
       "63       1\n",
       "54       1\n",
       "83       1\n",
       "49       1\n",
       "46       1\n",
       "61       1\n",
       "44       1\n",
       "67       1\n",
       "56       1\n",
       "81       1\n",
       "73       1\n",
       "47       1\n",
       "38       1\n",
       "65       1\n",
       "80       1\n",
       "Name: is_chain, dtype: int64"
      ]
     },
     "execution_count": 28,
     "metadata": {},
     "output_type": "execute_result"
    }
   ],
   "source": [
    "food_df['is_chain'].value_counts()\n",
    "\n",
    "#Check this"
   ]
  },
  {
   "cell_type": "code",
   "execution_count": 10,
   "metadata": {},
   "outputs": [
    {
     "data": {
      "text/plain": [
       "customer_id                    0\n",
       "customer_region                0\n",
       "customer_age                 727\n",
       "vendor_count                   0\n",
       "product_count                  0\n",
       "is_chain                       0\n",
       "first_order                  106\n",
       "last_order                     0\n",
       "last_promo                     0\n",
       "payment_method                 0\n",
       "CUI_American                   0\n",
       "CUI_Asian                      0\n",
       "CUI_Beverages                  0\n",
       "CUI_Cafe                       0\n",
       "CUI_Chicken Dishes             0\n",
       "CUI_Chinese                    0\n",
       "CUI_Desserts                   0\n",
       "CUI_Healthy                    0\n",
       "CUI_Indian                     0\n",
       "CUI_Italian                    0\n",
       "CUI_Japanese                   0\n",
       "CUI_Noodle Dishes              0\n",
       "CUI_OTHER                      0\n",
       "CUI_Street Food / Snacks       0\n",
       "CUI_Thai                       0\n",
       "DOW_0                          0\n",
       "DOW_1                          0\n",
       "DOW_2                          0\n",
       "DOW_3                          0\n",
       "DOW_4                          0\n",
       "DOW_5                          0\n",
       "DOW_6                          0\n",
       "HR_0                        1165\n",
       "HR_1                           0\n",
       "HR_2                           0\n",
       "HR_3                           0\n",
       "HR_4                           0\n",
       "HR_5                           0\n",
       "HR_6                           0\n",
       "HR_7                           0\n",
       "HR_8                           0\n",
       "HR_9                           0\n",
       "HR_10                          0\n",
       "HR_11                          0\n",
       "HR_12                          0\n",
       "HR_13                          0\n",
       "HR_14                          0\n",
       "HR_15                          0\n",
       "HR_16                          0\n",
       "HR_17                          0\n",
       "HR_18                          0\n",
       "HR_19                          0\n",
       "HR_20                          0\n",
       "HR_21                          0\n",
       "HR_22                          0\n",
       "HR_23                          0\n",
       "dtype: int64"
      ]
     },
     "execution_count": 10,
     "metadata": {},
     "output_type": "execute_result"
    }
   ],
   "source": [
    "food_df.isna().sum()"
   ]
  },
  {
   "cell_type": "code",
   "execution_count": 12,
   "metadata": {},
   "outputs": [
    {
     "data": {
      "text/plain": [
       "0        1\n",
       "1        2\n",
       "2        2\n",
       "3        1\n",
       "4        0\n",
       "        ..\n",
       "31883    1\n",
       "31884    0\n",
       "31885    1\n",
       "31886    0\n",
       "31887    0\n",
       "Name: is_chain, Length: 31888, dtype: int64"
      ]
     },
     "execution_count": 12,
     "metadata": {},
     "output_type": "execute_result"
    }
   ],
   "source": [
    "food_df['is_chain']"
   ]
  },
  {
   "cell_type": "code",
   "execution_count": 13,
   "metadata": {},
   "outputs": [
    {
     "data": {
      "text/plain": [
       "0        0.0\n",
       "1        0.0\n",
       "2        0.0\n",
       "3        0.0\n",
       "4        0.0\n",
       "        ... \n",
       "31883    NaN\n",
       "31884    NaN\n",
       "31885    NaN\n",
       "31886    NaN\n",
       "31887    NaN\n",
       "Name: first_order, Length: 31888, dtype: float64"
      ]
     },
     "execution_count": 13,
     "metadata": {},
     "output_type": "execute_result"
    }
   ],
   "source": [
    "food_df['first_order']\n",
    "\n",
    "#NaN values, que não fazem sentido, sendo que é preciso ter um aorder placed"
   ]
  },
  {
   "cell_type": "code",
   "execution_count": 15,
   "metadata": {},
   "outputs": [
    {
     "data": {
      "text/html": [
       "<div>\n",
       "<style scoped>\n",
       "    .dataframe tbody tr th:only-of-type {\n",
       "        vertical-align: middle;\n",
       "    }\n",
       "\n",
       "    .dataframe tbody tr th {\n",
       "        vertical-align: top;\n",
       "    }\n",
       "\n",
       "    .dataframe thead th {\n",
       "        text-align: right;\n",
       "    }\n",
       "</style>\n",
       "<table border=\"1\" class=\"dataframe\">\n",
       "  <thead>\n",
       "    <tr style=\"text-align: right;\">\n",
       "      <th></th>\n",
       "      <th>count</th>\n",
       "      <th>unique</th>\n",
       "      <th>top</th>\n",
       "      <th>freq</th>\n",
       "    </tr>\n",
       "  </thead>\n",
       "  <tbody>\n",
       "    <tr>\n",
       "      <th>customer_id</th>\n",
       "      <td>31888</td>\n",
       "      <td>31875</td>\n",
       "      <td>742ca068fc</td>\n",
       "      <td>2</td>\n",
       "    </tr>\n",
       "    <tr>\n",
       "      <th>customer_region</th>\n",
       "      <td>31888</td>\n",
       "      <td>9</td>\n",
       "      <td>8670</td>\n",
       "      <td>9761</td>\n",
       "    </tr>\n",
       "    <tr>\n",
       "      <th>last_promo</th>\n",
       "      <td>31888</td>\n",
       "      <td>4</td>\n",
       "      <td>-</td>\n",
       "      <td>16748</td>\n",
       "    </tr>\n",
       "    <tr>\n",
       "      <th>payment_method</th>\n",
       "      <td>31888</td>\n",
       "      <td>3</td>\n",
       "      <td>CARD</td>\n",
       "      <td>20161</td>\n",
       "    </tr>\n",
       "  </tbody>\n",
       "</table>\n",
       "</div>"
      ],
      "text/plain": [
       "                 count unique         top   freq\n",
       "customer_id      31888  31875  742ca068fc      2\n",
       "customer_region  31888      9        8670   9761\n",
       "last_promo       31888      4           -  16748\n",
       "payment_method   31888      3        CARD  20161"
      ]
     },
     "execution_count": 15,
     "metadata": {},
     "output_type": "execute_result"
    }
   ],
   "source": [
    "food_df.describe(include=object).T"
   ]
  },
  {
   "cell_type": "code",
   "execution_count": 18,
   "metadata": {},
   "outputs": [
    {
     "data": {
      "text/plain": [
       "array([18., 17., 38., nan, 20., 40., 24., 27., 33., 26., 21., 51., 35.,\n",
       "       22., 31., 15., 47., 19., 28., 32., 25., 37., 42., 48., 16., 34.,\n",
       "       29., 23., 30., 39., 46., 41., 49., 53., 36., 43., 44., 45., 57.,\n",
       "       58., 68., 56., 61., 60., 54., 59., 50., 55., 52., 65., 75., 66.,\n",
       "       79., 80., 63., 77., 62., 69., 72., 64., 76., 74., 67., 70., 78.,\n",
       "       71., 73.])"
      ]
     },
     "execution_count": 18,
     "metadata": {},
     "output_type": "execute_result"
    }
   ],
   "source": [
    "food_df['customer_age'].unique()"
   ]
  },
  {
   "cell_type": "code",
   "execution_count": 17,
   "metadata": {},
   "outputs": [
    {
     "data": {
      "text/plain": [
       "array(['DIGI', 'CASH', 'CARD'], dtype=object)"
      ]
     },
     "execution_count": 17,
     "metadata": {},
     "output_type": "execute_result"
    }
   ],
   "source": [
    "food_df['payment_method'].unique()"
   ]
  },
  {
   "cell_type": "code",
   "execution_count": 19,
   "metadata": {},
   "outputs": [
    {
     "data": {
      "text/plain": [
       "array([ 0.  , 12.82,  9.2 , ..., 14.45, 23.12,  8.65])"
      ]
     },
     "execution_count": 19,
     "metadata": {},
     "output_type": "execute_result"
    }
   ],
   "source": [
    "food_df['CUI_American'].unique()"
   ]
  },
  {
   "cell_type": "code",
   "execution_count": 21,
   "metadata": {},
   "outputs": [
    {
     "data": {
      "text/html": [
       "<div>\n",
       "<style scoped>\n",
       "    .dataframe tbody tr th:only-of-type {\n",
       "        vertical-align: middle;\n",
       "    }\n",
       "\n",
       "    .dataframe tbody tr th {\n",
       "        vertical-align: top;\n",
       "    }\n",
       "\n",
       "    .dataframe thead th {\n",
       "        text-align: right;\n",
       "    }\n",
       "</style>\n",
       "<table border=\"1\" class=\"dataframe\">\n",
       "  <thead>\n",
       "    <tr style=\"text-align: right;\">\n",
       "      <th></th>\n",
       "      <th>customer_age</th>\n",
       "      <th>vendor_count</th>\n",
       "      <th>product_count</th>\n",
       "      <th>is_chain</th>\n",
       "      <th>first_order</th>\n",
       "      <th>last_order</th>\n",
       "      <th>CUI_American</th>\n",
       "      <th>CUI_Asian</th>\n",
       "      <th>CUI_Beverages</th>\n",
       "      <th>CUI_Cafe</th>\n",
       "      <th>...</th>\n",
       "      <th>HR_14</th>\n",
       "      <th>HR_15</th>\n",
       "      <th>HR_16</th>\n",
       "      <th>HR_17</th>\n",
       "      <th>HR_18</th>\n",
       "      <th>HR_19</th>\n",
       "      <th>HR_20</th>\n",
       "      <th>HR_21</th>\n",
       "      <th>HR_22</th>\n",
       "      <th>HR_23</th>\n",
       "    </tr>\n",
       "  </thead>\n",
       "  <tbody>\n",
       "    <tr>\n",
       "      <th>count</th>\n",
       "      <td>31161.0</td>\n",
       "      <td>31888.0</td>\n",
       "      <td>31888.0</td>\n",
       "      <td>31888.0</td>\n",
       "      <td>31782.0</td>\n",
       "      <td>31888.0</td>\n",
       "      <td>31888.0</td>\n",
       "      <td>31888.0</td>\n",
       "      <td>31888.0</td>\n",
       "      <td>31888.0</td>\n",
       "      <td>...</td>\n",
       "      <td>31888.0</td>\n",
       "      <td>31888.0</td>\n",
       "      <td>31888.0</td>\n",
       "      <td>31888.0</td>\n",
       "      <td>31888.0</td>\n",
       "      <td>31888.0</td>\n",
       "      <td>31888.0</td>\n",
       "      <td>31888.0</td>\n",
       "      <td>31888.0</td>\n",
       "      <td>31888.0</td>\n",
       "    </tr>\n",
       "    <tr>\n",
       "      <th>mean</th>\n",
       "      <td>28.0</td>\n",
       "      <td>3.0</td>\n",
       "      <td>6.0</td>\n",
       "      <td>3.0</td>\n",
       "      <td>28.0</td>\n",
       "      <td>64.0</td>\n",
       "      <td>5.0</td>\n",
       "      <td>10.0</td>\n",
       "      <td>2.0</td>\n",
       "      <td>1.0</td>\n",
       "      <td>...</td>\n",
       "      <td>0.0</td>\n",
       "      <td>0.0</td>\n",
       "      <td>0.0</td>\n",
       "      <td>0.0</td>\n",
       "      <td>0.0</td>\n",
       "      <td>0.0</td>\n",
       "      <td>0.0</td>\n",
       "      <td>0.0</td>\n",
       "      <td>0.0</td>\n",
       "      <td>0.0</td>\n",
       "    </tr>\n",
       "    <tr>\n",
       "      <th>std</th>\n",
       "      <td>7.0</td>\n",
       "      <td>3.0</td>\n",
       "      <td>7.0</td>\n",
       "      <td>4.0</td>\n",
       "      <td>24.0</td>\n",
       "      <td>23.0</td>\n",
       "      <td>12.0</td>\n",
       "      <td>24.0</td>\n",
       "      <td>8.0</td>\n",
       "      <td>6.0</td>\n",
       "      <td>...</td>\n",
       "      <td>1.0</td>\n",
       "      <td>1.0</td>\n",
       "      <td>1.0</td>\n",
       "      <td>1.0</td>\n",
       "      <td>1.0</td>\n",
       "      <td>1.0</td>\n",
       "      <td>1.0</td>\n",
       "      <td>0.0</td>\n",
       "      <td>0.0</td>\n",
       "      <td>0.0</td>\n",
       "    </tr>\n",
       "    <tr>\n",
       "      <th>min</th>\n",
       "      <td>15.0</td>\n",
       "      <td>0.0</td>\n",
       "      <td>0.0</td>\n",
       "      <td>0.0</td>\n",
       "      <td>0.0</td>\n",
       "      <td>0.0</td>\n",
       "      <td>0.0</td>\n",
       "      <td>0.0</td>\n",
       "      <td>0.0</td>\n",
       "      <td>0.0</td>\n",
       "      <td>...</td>\n",
       "      <td>0.0</td>\n",
       "      <td>0.0</td>\n",
       "      <td>0.0</td>\n",
       "      <td>0.0</td>\n",
       "      <td>0.0</td>\n",
       "      <td>0.0</td>\n",
       "      <td>0.0</td>\n",
       "      <td>0.0</td>\n",
       "      <td>0.0</td>\n",
       "      <td>0.0</td>\n",
       "    </tr>\n",
       "    <tr>\n",
       "      <th>25%</th>\n",
       "      <td>23.0</td>\n",
       "      <td>1.0</td>\n",
       "      <td>2.0</td>\n",
       "      <td>1.0</td>\n",
       "      <td>7.0</td>\n",
       "      <td>49.0</td>\n",
       "      <td>0.0</td>\n",
       "      <td>0.0</td>\n",
       "      <td>0.0</td>\n",
       "      <td>0.0</td>\n",
       "      <td>...</td>\n",
       "      <td>0.0</td>\n",
       "      <td>0.0</td>\n",
       "      <td>0.0</td>\n",
       "      <td>0.0</td>\n",
       "      <td>0.0</td>\n",
       "      <td>0.0</td>\n",
       "      <td>0.0</td>\n",
       "      <td>0.0</td>\n",
       "      <td>0.0</td>\n",
       "      <td>0.0</td>\n",
       "    </tr>\n",
       "    <tr>\n",
       "      <th>50%</th>\n",
       "      <td>26.0</td>\n",
       "      <td>2.0</td>\n",
       "      <td>3.0</td>\n",
       "      <td>2.0</td>\n",
       "      <td>22.0</td>\n",
       "      <td>70.0</td>\n",
       "      <td>0.0</td>\n",
       "      <td>0.0</td>\n",
       "      <td>0.0</td>\n",
       "      <td>0.0</td>\n",
       "      <td>...</td>\n",
       "      <td>0.0</td>\n",
       "      <td>0.0</td>\n",
       "      <td>0.0</td>\n",
       "      <td>0.0</td>\n",
       "      <td>0.0</td>\n",
       "      <td>0.0</td>\n",
       "      <td>0.0</td>\n",
       "      <td>0.0</td>\n",
       "      <td>0.0</td>\n",
       "      <td>0.0</td>\n",
       "    </tr>\n",
       "    <tr>\n",
       "      <th>75%</th>\n",
       "      <td>31.0</td>\n",
       "      <td>4.0</td>\n",
       "      <td>7.0</td>\n",
       "      <td>3.0</td>\n",
       "      <td>45.0</td>\n",
       "      <td>83.0</td>\n",
       "      <td>6.0</td>\n",
       "      <td>12.0</td>\n",
       "      <td>0.0</td>\n",
       "      <td>0.0</td>\n",
       "      <td>...</td>\n",
       "      <td>0.0</td>\n",
       "      <td>0.0</td>\n",
       "      <td>0.0</td>\n",
       "      <td>0.0</td>\n",
       "      <td>0.0</td>\n",
       "      <td>0.0</td>\n",
       "      <td>0.0</td>\n",
       "      <td>0.0</td>\n",
       "      <td>0.0</td>\n",
       "      <td>0.0</td>\n",
       "    </tr>\n",
       "    <tr>\n",
       "      <th>max</th>\n",
       "      <td>80.0</td>\n",
       "      <td>41.0</td>\n",
       "      <td>269.0</td>\n",
       "      <td>83.0</td>\n",
       "      <td>90.0</td>\n",
       "      <td>90.0</td>\n",
       "      <td>280.0</td>\n",
       "      <td>897.0</td>\n",
       "      <td>229.0</td>\n",
       "      <td>326.0</td>\n",
       "      <td>...</td>\n",
       "      <td>13.0</td>\n",
       "      <td>23.0</td>\n",
       "      <td>22.0</td>\n",
       "      <td>20.0</td>\n",
       "      <td>24.0</td>\n",
       "      <td>35.0</td>\n",
       "      <td>36.0</td>\n",
       "      <td>11.0</td>\n",
       "      <td>15.0</td>\n",
       "      <td>13.0</td>\n",
       "    </tr>\n",
       "  </tbody>\n",
       "</table>\n",
       "<p>8 rows × 52 columns</p>\n",
       "</div>"
      ],
      "text/plain": [
       "       customer_age  vendor_count  product_count  is_chain  first_order  \\\n",
       "count       31161.0       31888.0        31888.0   31888.0      31782.0   \n",
       "mean           28.0           3.0            6.0       3.0         28.0   \n",
       "std             7.0           3.0            7.0       4.0         24.0   \n",
       "min            15.0           0.0            0.0       0.0          0.0   \n",
       "25%            23.0           1.0            2.0       1.0          7.0   \n",
       "50%            26.0           2.0            3.0       2.0         22.0   \n",
       "75%            31.0           4.0            7.0       3.0         45.0   \n",
       "max            80.0          41.0          269.0      83.0         90.0   \n",
       "\n",
       "       last_order  CUI_American  CUI_Asian  CUI_Beverages  CUI_Cafe  ...  \\\n",
       "count     31888.0       31888.0    31888.0        31888.0   31888.0  ...   \n",
       "mean         64.0           5.0       10.0            2.0       1.0  ...   \n",
       "std          23.0          12.0       24.0            8.0       6.0  ...   \n",
       "min           0.0           0.0        0.0            0.0       0.0  ...   \n",
       "25%          49.0           0.0        0.0            0.0       0.0  ...   \n",
       "50%          70.0           0.0        0.0            0.0       0.0  ...   \n",
       "75%          83.0           6.0       12.0            0.0       0.0  ...   \n",
       "max          90.0         280.0      897.0          229.0     326.0  ...   \n",
       "\n",
       "         HR_14    HR_15    HR_16    HR_17    HR_18    HR_19    HR_20    HR_21  \\\n",
       "count  31888.0  31888.0  31888.0  31888.0  31888.0  31888.0  31888.0  31888.0   \n",
       "mean       0.0      0.0      0.0      0.0      0.0      0.0      0.0      0.0   \n",
       "std        1.0      1.0      1.0      1.0      1.0      1.0      1.0      0.0   \n",
       "min        0.0      0.0      0.0      0.0      0.0      0.0      0.0      0.0   \n",
       "25%        0.0      0.0      0.0      0.0      0.0      0.0      0.0      0.0   \n",
       "50%        0.0      0.0      0.0      0.0      0.0      0.0      0.0      0.0   \n",
       "75%        0.0      0.0      0.0      0.0      0.0      0.0      0.0      0.0   \n",
       "max       13.0     23.0     22.0     20.0     24.0     35.0     36.0     11.0   \n",
       "\n",
       "         HR_22    HR_23  \n",
       "count  31888.0  31888.0  \n",
       "mean       0.0      0.0  \n",
       "std        0.0      0.0  \n",
       "min        0.0      0.0  \n",
       "25%        0.0      0.0  \n",
       "50%        0.0      0.0  \n",
       "75%        0.0      0.0  \n",
       "max       15.0     13.0  \n",
       "\n",
       "[8 rows x 52 columns]"
      ]
     },
     "execution_count": 21,
     "metadata": {},
     "output_type": "execute_result"
    }
   ],
   "source": [
    "food_df.describe().round()\n",
    "\n",
    "#Porque os valores estão no 75% e está beverages vazio.....????????\n",
    "#Same com o CUI Cafe"
   ]
  },
  {
   "cell_type": "code",
   "execution_count": 22,
   "metadata": {},
   "outputs": [
    {
     "data": {
      "text/plain": [
       "0.0    30723\n",
       "Name: HR_0, dtype: int64"
      ]
     },
     "execution_count": 22,
     "metadata": {},
     "output_type": "execute_result"
    }
   ],
   "source": [
    "food_df['HR_0'].value_counts()\n",
    "#Pode servir como insight"
   ]
  },
  {
   "cell_type": "code",
   "execution_count": null,
   "metadata": {},
   "outputs": [],
   "source": []
  },
  {
   "cell_type": "markdown",
   "metadata": {},
   "source": [
    "Check and Treat Missing Values"
   ]
  },
  {
   "cell_type": "code",
   "execution_count": null,
   "metadata": {},
   "outputs": [],
   "source": []
  },
  {
   "cell_type": "markdown",
   "metadata": {},
   "source": [
    "Change the Datatypes (Age and first order)"
   ]
  },
  {
   "cell_type": "code",
   "execution_count": null,
   "metadata": {},
   "outputs": [],
   "source": []
  },
  {
   "cell_type": "markdown",
   "metadata": {},
   "source": [
    "Check Duplicate Values\n"
   ]
  },
  {
   "cell_type": "code",
   "execution_count": 25,
   "metadata": {},
   "outputs": [
    {
     "data": {
      "text/plain": [
       "13"
      ]
     },
     "execution_count": 25,
     "metadata": {},
     "output_type": "execute_result"
    }
   ],
   "source": [
    "food_df.duplicated().sum()"
   ]
  },
  {
   "cell_type": "markdown",
   "metadata": {},
   "source": [
    "Visual Exploration"
   ]
  },
  {
   "cell_type": "code",
   "execution_count": null,
   "metadata": {},
   "outputs": [],
   "source": []
  }
 ],
 "metadata": {
  "kernelspec": {
   "display_name": "base",
   "language": "python",
   "name": "python3"
  },
  "language_info": {
   "codemirror_mode": {
    "name": "ipython",
    "version": 3
   },
   "file_extension": ".py",
   "mimetype": "text/x-python",
   "name": "python",
   "nbconvert_exporter": "python",
   "pygments_lexer": "ipython3",
   "version": "3.9.12"
  }
 },
 "nbformat": 4,
 "nbformat_minor": 2
}
